{
 "cells": [
  {
   "cell_type": "markdown",
   "metadata": {},
   "source": [
    "# Number recognition using neural network"
   ]
  },
  {
   "cell_type": "markdown",
   "metadata": {},
   "source": [
    "In this exercise the goal is building a neural network that allows the recognition of numbers. A set of data called MNIST (Modified National Institute of Standards and Technology) will be used. This contains 70000 handwritten digits between 0 and 9."
   ]
  },
  {
   "cell_type": "markdown",
   "metadata": {},
   "source": [
    "## Contents <a id='back'></a>"
   ]
  },
  {
   "cell_type": "markdown",
   "metadata": {},
   "source": [
    "* [Stage 1. Data loading](#1)\n",
    "    * [1.1 Data exploration](#1.1)\n",
    "* [Stage 2. Model building](#2)\n",
    "    * [2.1 Regression model](#2.1)\n",
    "    * [2.2 Classification model](#2.2)\n",
    "    * [2.3 Convolutional Neural Network](#2.3)\n",
    "* [Conclusion](#conclusion)"
   ]
  },
  {
   "cell_type": "markdown",
   "metadata": {},
   "source": [
    "## Stage 1. Data loading <a id='1'></a>"
   ]
  },
  {
   "cell_type": "code",
   "execution_count": 1,
   "metadata": {},
   "outputs": [],
   "source": [
    "# General libraries\n",
    "import pandas as pd\n",
    "import numpy as np\n",
    "import matplotlib.pyplot as plt"
   ]
  },
  {
   "cell_type": "code",
   "execution_count": 2,
   "metadata": {},
   "outputs": [],
   "source": [
    "# Let's import the dataset from keras (tensorflow based library used by Google to create neural networks)\n",
    "from keras.datasets import mnist"
   ]
  },
  {
   "cell_type": "code",
   "execution_count": 3,
   "metadata": {},
   "outputs": [],
   "source": [
    "# download the data\n",
    "(X_train, y_train),(X_test, y_test) = mnist.load_data()"
   ]
  },
  {
   "cell_type": "code",
   "execution_count": 4,
   "metadata": {},
   "outputs": [
    {
     "data": {
      "text/plain": [
       "(60000, 28, 28)"
      ]
     },
     "execution_count": 4,
     "metadata": {},
     "output_type": "execute_result"
    }
   ],
   "source": [
    "# shape of train feature dataset\n",
    "X_train.shape"
   ]
  },
  {
   "cell_type": "markdown",
   "metadata": {},
   "source": [
    "### 1.1 Data exploration <a id='1.1'></a>"
   ]
  },
  {
   "cell_type": "code",
   "execution_count": 5,
   "metadata": {},
   "outputs": [
    {
     "data": {
      "text/plain": [
       "<function matplotlib.pyplot.show(close=None, block=None)>"
      ]
     },
     "execution_count": 5,
     "metadata": {},
     "output_type": "execute_result"
    },
    {
     "data": {
      "image/png": "[encoded data removed]",
      "text/plain": [
       "<Figure size 640x480 with 1 Axes>"
      ]
     },
     "metadata": {},
     "output_type": "display_data"
    }
   ],
   "source": [
    "# visualize a random image \n",
    "plt.imshow(X_train[0,:,:])\n",
    "plt.show"
   ]
  },
  {
   "cell_type": "code",
   "execution_count": 6,
   "metadata": {},
   "outputs": [
    {
     "data": {
      "text/plain": [
       "<function matplotlib.pyplot.show(close=None, block=None)>"
      ]
     },
     "execution_count": 6,
     "metadata": {},
     "output_type": "execute_result"
    },
    {
     "data": {
      "image/png": "[encoded data removed]",
      "text/plain": [
       "<Figure size 640x480 with 9 Axes>"
      ]
     },
     "metadata": {},
     "output_type": "display_data"
    }
   ],
   "source": [
    "# visualize the first 9 numbers\n",
    "for i in range(9):\n",
    "    plt.subplot(3,3,i+1)\n",
    "    plt.imshow(X_train[i,:,:])\n",
    "plt.show"
   ]
  },
  {
   "cell_type": "markdown",
   "metadata": {},
   "source": [
    "Before going into the algorithm of Machine Learning, we have to modify these 60000 matrices in vectors 28x28, so 784 numbers."
   ]
  },
  {
   "cell_type": "code",
   "execution_count": 7,
   "metadata": {},
   "outputs": [],
   "source": [
    "X_train_reshaped = X_train.reshape(60000, 28*28)\n",
    "X_test_reshaped = X_test.reshape(10000, 28*28)"
   ]
  },
  {
   "cell_type": "code",
   "execution_count": 8,
   "metadata": {},
   "outputs": [
    {
     "data": {
      "text/plain": [
       "(60000, 784)"
      ]
     },
     "execution_count": 8,
     "metadata": {},
     "output_type": "execute_result"
    }
   ],
   "source": [
    "# verifying the new shape\n",
    "X_train_reshaped.shape"
   ]
  },
  {
   "cell_type": "code",
   "execution_count": 9,
   "metadata": {},
   "outputs": [
    {
     "name": "stdout",
     "output_type": "stream",
     "text": [
      "0\n",
      "255\n"
     ]
    }
   ],
   "source": [
    "# lets see what are the min and max values\n",
    "print(np.min(X_train_reshaped))\n",
    "print(np.max(X_train_reshaped))"
   ]
  },
  {
   "cell_type": "markdown",
   "metadata": {},
   "source": [
    "So, these numbers range between 0, which means a full black pixel, and 255, which is full white"
   ]
  },
  {
   "cell_type": "markdown",
   "metadata": {},
   "source": [
    "## Stage 2. Model building <a id='4'></a>"
   ]
  },
  {
   "cell_type": "markdown",
   "metadata": {},
   "source": [
    "### 2.1 Regression model <a id='2.1'></a>"
   ]
  },
  {
   "cell_type": "markdown",
   "metadata": {},
   "source": [
    "Now that we know how the dataset is build, we can start building our model:"
   ]
  },
  {
   "cell_type": "code",
   "execution_count": 10,
   "metadata": {},
   "outputs": [],
   "source": [
    "# import some dependencies from keras\n",
    "from keras.models import Sequential\n",
    "from keras.layers import Dense, Activation, Dropout"
   ]
  },
  {
   "cell_type": "markdown",
   "metadata": {},
   "source": [
    "Now, we are going to build the NN with 3 layers: input(784 nodes), hidden(100 nodes) and exit layer(1 node)."
   ]
  },
  {
   "cell_type": "code",
   "execution_count": 11,
   "metadata": {},
   "outputs": [
    {
     "name": "stdout",
     "output_type": "stream",
     "text": [
      "Epoch 1/10\n",
      "1875/1875 [==============================] - 4s 2ms/step - loss: 15.8151 - mae: 15.8151 - val_loss: 3.7754 - val_mae: 3.7754\n",
      "Epoch 2/10\n",
      "1875/1875 [==============================] - 3s 2ms/step - loss: 2.8111 - mae: 2.8111 - val_loss: 2.0185 - val_mae: 2.0185\n",
      "Epoch 3/10\n",
      "1875/1875 [==============================] - 3s 2ms/step - loss: 1.7632 - mae: 1.7632 - val_loss: 1.9322 - val_mae: 1.9322\n",
      "Epoch 4/10\n",
      "1875/1875 [==============================] - 3s 2ms/step - loss: 1.7137 - mae: 1.7137 - val_loss: 1.5561 - val_mae: 1.5561\n",
      "Epoch 5/10\n",
      "1875/1875 [==============================] - 3s 2ms/step - loss: 1.6817 - mae: 1.6817 - val_loss: 1.5784 - val_mae: 1.5784\n",
      "Epoch 6/10\n",
      "1875/1875 [==============================] - 3s 2ms/step - loss: 1.6732 - mae: 1.6732 - val_loss: 1.6501 - val_mae: 1.6501\n",
      "Epoch 7/10\n",
      "1875/1875 [==============================] - 3s 2ms/step - loss: 1.6582 - mae: 1.6582 - val_loss: 1.6598 - val_mae: 1.6598\n",
      "Epoch 8/10\n",
      "1875/1875 [==============================] - 3s 2ms/step - loss: 1.6361 - mae: 1.6361 - val_loss: 1.5998 - val_mae: 1.5998\n",
      "Epoch 9/10\n",
      "1875/1875 [==============================] - 3s 2ms/step - loss: 1.6375 - mae: 1.6375 - val_loss: 1.5802 - val_mae: 1.5802\n",
      "Epoch 10/10\n",
      "1875/1875 [==============================] - 3s 2ms/step - loss: 1.6325 - mae: 1.6325 - val_loss: 1.5079 - val_mae: 1.5079\n"
     ]
    },
    {
     "data": {
      "text/plain": [
       "<keras.callbacks.History at 0x2b87e0fcbe0>"
      ]
     },
     "execution_count": 11,
     "metadata": {},
     "output_type": "execute_result"
    }
   ],
   "source": [
    "# building the neural network\n",
    "model = Sequential()\n",
    "model.add(Dense(100,input_shape=(784,)))  # first layer \n",
    "model.add(Dense(1))  # exit layer\n",
    "model.compile(optimizer='adam', loss='mae', metrics=['mae']) # adam is an adaptive optimizer that uses stochastic gradient descent to find the best parameters\n",
    "model.fit(X_train_reshaped, y_train, \n",
    "            validation_data=(X_test_reshaped, y_test),\n",
    "            epochs=10)"
   ]
  },
  {
   "cell_type": "markdown",
   "metadata": {},
   "source": [
    "We can see that mae (mean absolute error) decreases every epoch. This is good."
   ]
  },
  {
   "cell_type": "code",
   "execution_count": 12,
   "metadata": {},
   "outputs": [
    {
     "name": "stdout",
     "output_type": "stream",
     "text": [
      "313/313 [==============================] - 0s 1ms/step\n"
     ]
    }
   ],
   "source": [
    "# let's see what the model predicts\n",
    "y_pred = model.predict(X_test_reshaped)"
   ]
  },
  {
   "cell_type": "code",
   "execution_count": 13,
   "metadata": {},
   "outputs": [
    {
     "data": {
      "text/plain": [
       "array([[8.200553  ],\n",
       "       [2.528924  ],\n",
       "       [0.97451717],\n",
       "       [1.6893017 ],\n",
       "       [3.1542768 ],\n",
       "       [1.3937027 ],\n",
       "       [6.926484  ],\n",
       "       [4.3199105 ],\n",
       "       [3.4854026 ],\n",
       "       [9.972945  ]], dtype=float32)"
      ]
     },
     "execution_count": 13,
     "metadata": {},
     "output_type": "execute_result"
    }
   ],
   "source": [
    "y_pred[0:10]"
   ]
  },
  {
   "cell_type": "markdown",
   "metadata": {},
   "source": [
    "We see decimal numbers and this is not what we want. So we apply a round."
   ]
  },
  {
   "cell_type": "code",
   "execution_count": 14,
   "metadata": {},
   "outputs": [
    {
     "name": "stdout",
     "output_type": "stream",
     "text": [
      "313/313 [==============================] - 0s 1ms/step\n"
     ]
    },
    {
     "data": {
      "text/plain": [
       "array([[ 8.],\n",
       "       [ 3.],\n",
       "       [ 1.],\n",
       "       [ 2.],\n",
       "       [ 3.],\n",
       "       [ 1.],\n",
       "       [ 7.],\n",
       "       [ 4.],\n",
       "       [ 3.],\n",
       "       [10.]], dtype=float32)"
      ]
     },
     "execution_count": 14,
     "metadata": {},
     "output_type": "execute_result"
    }
   ],
   "source": [
    "y_pred = np.around(model.predict(X_test_reshaped))\n",
    "y_pred[0:10]"
   ]
  },
  {
   "cell_type": "code",
   "execution_count": 15,
   "metadata": {},
   "outputs": [
    {
     "name": "stdout",
     "output_type": "stream",
     "text": [
      "0.09527549\n"
     ]
    }
   ],
   "source": [
    "# let's compare our predictions with the real data\n",
    "score_regr = np.mean(y_pred == y_test)\n",
    "print(score_regr)"
   ]
  },
  {
   "cell_type": "markdown",
   "metadata": {},
   "source": [
    "So we have an accuracy of around 10%, really bad. Far worse than a casual model"
   ]
  },
  {
   "cell_type": "code",
   "execution_count": 16,
   "metadata": {},
   "outputs": [],
   "source": [
    "# Create a data frame named \"summary_models\" where we save information of different models\n",
    "summary_models = pd.DataFrame(columns=['Score'])\n",
    "\n",
    "# Save info\n",
    "summary_models.loc['Regression'] = {'Score': score_regr}"
   ]
  },
  {
   "cell_type": "markdown",
   "metadata": {},
   "source": [
    "What we do now is introducing a activation function. We'll use ReLU. This gets a non-linearity in our model."
   ]
  },
  {
   "cell_type": "code",
   "execution_count": 17,
   "metadata": {},
   "outputs": [
    {
     "name": "stdout",
     "output_type": "stream",
     "text": [
      "Epoch 1/10\n",
      "1875/1875 [==============================] - 4s 2ms/step - loss: 3.0313 - mae: 3.0313 - val_loss: 1.0304 - val_mae: 1.0304\n",
      "Epoch 2/10\n",
      "1875/1875 [==============================] - 3s 2ms/step - loss: 0.9816 - mae: 0.9816 - val_loss: 0.8937 - val_mae: 0.8937\n",
      "Epoch 3/10\n",
      "1875/1875 [==============================] - 3s 2ms/step - loss: 0.9220 - mae: 0.9220 - val_loss: 0.9473 - val_mae: 0.9473\n",
      "Epoch 4/10\n",
      "1875/1875 [==============================] - 3s 2ms/step - loss: 0.8796 - mae: 0.8796 - val_loss: 0.8593 - val_mae: 0.8593\n",
      "Epoch 5/10\n",
      "1875/1875 [==============================] - 3s 2ms/step - loss: 0.8508 - mae: 0.8508 - val_loss: 0.8421 - val_mae: 0.8421\n",
      "Epoch 6/10\n",
      "1875/1875 [==============================] - 3s 2ms/step - loss: 0.8298 - mae: 0.8298 - val_loss: 0.9755 - val_mae: 0.9755\n",
      "Epoch 7/10\n",
      "1875/1875 [==============================] - 3s 2ms/step - loss: 0.8074 - mae: 0.8074 - val_loss: 0.7928 - val_mae: 0.7928\n",
      "Epoch 8/10\n",
      "1875/1875 [==============================] - 3s 2ms/step - loss: 0.7991 - mae: 0.7991 - val_loss: 0.8801 - val_mae: 0.8801\n",
      "Epoch 9/10\n",
      "1875/1875 [==============================] - 3s 2ms/step - loss: 0.7903 - mae: 0.7903 - val_loss: 0.8181 - val_mae: 0.8181\n",
      "Epoch 10/10\n",
      "1875/1875 [==============================] - 3s 2ms/step - loss: 0.7827 - mae: 0.7827 - val_loss: 0.8638 - val_mae: 0.8638\n"
     ]
    },
    {
     "data": {
      "text/plain": [
       "<keras.callbacks.History at 0x2b87e2e9b40>"
      ]
     },
     "execution_count": 17,
     "metadata": {},
     "output_type": "execute_result"
    }
   ],
   "source": [
    "# building the neural network\n",
    "model = Sequential()\n",
    "model.add(Dense(100,input_shape=(784,)))  # first layer \n",
    "model.add(Activation('relu'))\n",
    "model.add(Dense(1))  # exit layer\n",
    "model.compile(optimizer='adam', loss='mae', metrics=['mae']) # adam is an adaptive optimizer that uses stochastic gradient descent to find the best parameters\n",
    "model.fit(X_train_reshaped, y_train, \n",
    "            validation_data=(X_test_reshaped, y_test),\n",
    "            epochs=10)"
   ]
  },
  {
   "cell_type": "markdown",
   "metadata": {},
   "source": [
    "Cool, with the activation function the mae is half compared with before."
   ]
  },
  {
   "cell_type": "code",
   "execution_count": 18,
   "metadata": {},
   "outputs": [
    {
     "name": "stdout",
     "output_type": "stream",
     "text": [
      "313/313 [==============================] - 0s 1ms/step\n"
     ]
    }
   ],
   "source": [
    "y_pred = np.around(model.predict(X_test_reshaped))[:,0]"
   ]
  },
  {
   "cell_type": "code",
   "execution_count": 19,
   "metadata": {},
   "outputs": [
    {
     "name": "stdout",
     "output_type": "stream",
     "text": [
      "0.4655\n"
     ]
    }
   ],
   "source": [
    "score_activ = np.mean(y_pred == y_test)\n",
    "print(score_activ)"
   ]
  },
  {
   "cell_type": "markdown",
   "metadata": {},
   "source": [
    "So, ReLU give us a huge step forward, since our accuracy is over 40%."
   ]
  },
  {
   "cell_type": "code",
   "execution_count": 20,
   "metadata": {},
   "outputs": [],
   "source": [
    "# Save info\n",
    "summary_models.loc['Regression with ReLU'] = {'Score': score_activ}"
   ]
  },
  {
   "cell_type": "markdown",
   "metadata": {},
   "source": [
    "Lets keep improving the model. We scale our variables:"
   ]
  },
  {
   "cell_type": "code",
   "execution_count": 21,
   "metadata": {},
   "outputs": [],
   "source": [
    "X_train_scaled = X_train_reshaped/255\n",
    "X_test_scaled = X_test_reshaped/255"
   ]
  },
  {
   "cell_type": "code",
   "execution_count": 22,
   "metadata": {},
   "outputs": [
    {
     "name": "stdout",
     "output_type": "stream",
     "text": [
      "0.0\n",
      "1.0\n"
     ]
    }
   ],
   "source": [
    "# finding the new min and max value in the scaled dataset\n",
    "print(np.min(X_train_scaled))\n",
    "print(np.max(X_train_scaled))"
   ]
  },
  {
   "cell_type": "markdown",
   "metadata": {},
   "source": [
    "Lets train the new NN with these scaled data:"
   ]
  },
  {
   "cell_type": "code",
   "execution_count": 23,
   "metadata": {},
   "outputs": [
    {
     "name": "stdout",
     "output_type": "stream",
     "text": [
      "Epoch 1/10\n",
      "1875/1875 [==============================] - 3s 1ms/step - loss: 1.0179 - mae: 1.0179 - val_loss: 0.7692 - val_mae: 0.7692\n",
      "Epoch 2/10\n",
      "1875/1875 [==============================] - 3s 2ms/step - loss: 0.7047 - mae: 0.7047 - val_loss: 0.6684 - val_mae: 0.6684\n",
      "Epoch 3/10\n",
      "1875/1875 [==============================] - 3s 2ms/step - loss: 0.6312 - mae: 0.6312 - val_loss: 0.6241 - val_mae: 0.6241\n",
      "Epoch 4/10\n",
      "1875/1875 [==============================] - 3s 2ms/step - loss: 0.5855 - mae: 0.5855 - val_loss: 0.5769 - val_mae: 0.5769\n",
      "Epoch 5/10\n",
      "1875/1875 [==============================] - 3s 2ms/step - loss: 0.5565 - mae: 0.5565 - val_loss: 0.5565 - val_mae: 0.5565\n",
      "Epoch 6/10\n",
      "1875/1875 [==============================] - 3s 2ms/step - loss: 0.5306 - mae: 0.5306 - val_loss: 0.5691 - val_mae: 0.5691\n",
      "Epoch 7/10\n",
      "1875/1875 [==============================] - 3s 2ms/step - loss: 0.5162 - mae: 0.5162 - val_loss: 0.5333 - val_mae: 0.5333\n",
      "Epoch 8/10\n",
      "1875/1875 [==============================] - 3s 2ms/step - loss: 0.4994 - mae: 0.4994 - val_loss: 0.5376 - val_mae: 0.5376\n",
      "Epoch 9/10\n",
      "1875/1875 [==============================] - 3s 2ms/step - loss: 0.4863 - mae: 0.4863 - val_loss: 0.5321 - val_mae: 0.5321\n",
      "Epoch 10/10\n",
      "1875/1875 [==============================] - 3s 2ms/step - loss: 0.4769 - mae: 0.4769 - val_loss: 0.5182 - val_mae: 0.5182\n"
     ]
    },
    {
     "data": {
      "text/plain": [
       "<keras.callbacks.History at 0x2b87e35df60>"
      ]
     },
     "execution_count": 23,
     "metadata": {},
     "output_type": "execute_result"
    }
   ],
   "source": [
    "model = Sequential()\n",
    "\n",
    "model.add(Dense(100,input_shape=(784,)))  # first layer \n",
    "model.add(Activation('relu'))\n",
    "\n",
    "model.add(Dense(1))  # exit layer\n",
    "\n",
    "model.compile(optimizer='adam', loss='mae', metrics=['mae']) # adam is an adaptive optimizer that uses stochastic gradient descent to find the best parameters\n",
    "\n",
    "model.fit(X_train_scaled, y_train, \n",
    "            validation_data=(X_test_scaled, y_test),\n",
    "            epochs=10)"
   ]
  },
  {
   "cell_type": "markdown",
   "metadata": {},
   "source": [
    "way better than before. Look at the mae !"
   ]
  },
  {
   "cell_type": "code",
   "execution_count": 24,
   "metadata": {},
   "outputs": [
    {
     "name": "stdout",
     "output_type": "stream",
     "text": [
      "313/313 [==============================] - 0s 990us/step\n"
     ]
    }
   ],
   "source": [
    "y_pred = np.around(model.predict(X_test_scaled))[:,0]"
   ]
  },
  {
   "cell_type": "code",
   "execution_count": 25,
   "metadata": {},
   "outputs": [
    {
     "name": "stdout",
     "output_type": "stream",
     "text": [
      "0.6792\n"
     ]
    }
   ],
   "source": [
    "score_scaled = np.mean(y_pred == y_test)\n",
    "print(score_scaled)"
   ]
  },
  {
   "cell_type": "code",
   "execution_count": 26,
   "metadata": {},
   "outputs": [],
   "source": [
    "# Save info\n",
    "summary_models.loc['Regression with ReLU + scaled data'] = {'Score': score_scaled}"
   ]
  },
  {
   "cell_type": "markdown",
   "metadata": {},
   "source": [
    "So, we finally get a score of around 70% accuracy. Not bad."
   ]
  },
  {
   "cell_type": "markdown",
   "metadata": {},
   "source": [
    "At this point, we realize that the model we worked on is wrong because we are dealing with a classification problem using a regression model. This because at the output we have a float number. So, lets change direction."
   ]
  },
  {
   "cell_type": "markdown",
   "metadata": {},
   "source": [
    "### 2.2 Classification model <a id='2.2'></a>"
   ]
  },
  {
   "cell_type": "markdown",
   "metadata": {},
   "source": [
    "From now on, we face this problem as a classification problem:"
   ]
  },
  {
   "cell_type": "code",
   "execution_count": 27,
   "metadata": {},
   "outputs": [
    {
     "data": {
      "text/plain": [
       "array([5, 0, 4, ..., 5, 6, 8], dtype=uint8)"
      ]
     },
     "execution_count": 27,
     "metadata": {},
     "output_type": "execute_result"
    }
   ],
   "source": [
    "y_train"
   ]
  },
  {
   "cell_type": "markdown",
   "metadata": {},
   "source": [
    "To deal in the right way with a classification problem we have to transform 'y_train' in a matrix in which every figure corresponds to a column."
   ]
  },
  {
   "cell_type": "code",
   "execution_count": 28,
   "metadata": {},
   "outputs": [
    {
     "data": {
      "text/html": [
       "<div>\n",
       "<style scoped>\n",
       "    .dataframe tbody tr th:only-of-type {\n",
       "        vertical-align: middle;\n",
       "    }\n",
       "\n",
       "    .dataframe tbody tr th {\n",
       "        vertical-align: top;\n",
       "    }\n",
       "\n",
       "    .dataframe thead th {\n",
       "        text-align: right;\n",
       "    }\n",
       "</style>\n",
       "<table border=\"1\" class=\"dataframe\">\n",
       "  <thead>\n",
       "    <tr style=\"text-align: right;\">\n",
       "      <th></th>\n",
       "      <th>0</th>\n",
       "      <th>1</th>\n",
       "      <th>2</th>\n",
       "      <th>3</th>\n",
       "      <th>4</th>\n",
       "      <th>5</th>\n",
       "      <th>6</th>\n",
       "      <th>7</th>\n",
       "      <th>8</th>\n",
       "      <th>9</th>\n",
       "    </tr>\n",
       "  </thead>\n",
       "  <tbody>\n",
       "    <tr>\n",
       "      <th>0</th>\n",
       "      <td>0</td>\n",
       "      <td>0</td>\n",
       "      <td>0</td>\n",
       "      <td>0</td>\n",
       "      <td>0</td>\n",
       "      <td>1</td>\n",
       "      <td>0</td>\n",
       "      <td>0</td>\n",
       "      <td>0</td>\n",
       "      <td>0</td>\n",
       "    </tr>\n",
       "    <tr>\n",
       "      <th>1</th>\n",
       "      <td>1</td>\n",
       "      <td>0</td>\n",
       "      <td>0</td>\n",
       "      <td>0</td>\n",
       "      <td>0</td>\n",
       "      <td>0</td>\n",
       "      <td>0</td>\n",
       "      <td>0</td>\n",
       "      <td>0</td>\n",
       "      <td>0</td>\n",
       "    </tr>\n",
       "    <tr>\n",
       "      <th>2</th>\n",
       "      <td>0</td>\n",
       "      <td>0</td>\n",
       "      <td>0</td>\n",
       "      <td>0</td>\n",
       "      <td>1</td>\n",
       "      <td>0</td>\n",
       "      <td>0</td>\n",
       "      <td>0</td>\n",
       "      <td>0</td>\n",
       "      <td>0</td>\n",
       "    </tr>\n",
       "    <tr>\n",
       "      <th>3</th>\n",
       "      <td>0</td>\n",
       "      <td>1</td>\n",
       "      <td>0</td>\n",
       "      <td>0</td>\n",
       "      <td>0</td>\n",
       "      <td>0</td>\n",
       "      <td>0</td>\n",
       "      <td>0</td>\n",
       "      <td>0</td>\n",
       "      <td>0</td>\n",
       "    </tr>\n",
       "    <tr>\n",
       "      <th>4</th>\n",
       "      <td>0</td>\n",
       "      <td>0</td>\n",
       "      <td>0</td>\n",
       "      <td>0</td>\n",
       "      <td>0</td>\n",
       "      <td>0</td>\n",
       "      <td>0</td>\n",
       "      <td>0</td>\n",
       "      <td>0</td>\n",
       "      <td>1</td>\n",
       "    </tr>\n",
       "    <tr>\n",
       "      <th>...</th>\n",
       "      <td>...</td>\n",
       "      <td>...</td>\n",
       "      <td>...</td>\n",
       "      <td>...</td>\n",
       "      <td>...</td>\n",
       "      <td>...</td>\n",
       "      <td>...</td>\n",
       "      <td>...</td>\n",
       "      <td>...</td>\n",
       "      <td>...</td>\n",
       "    </tr>\n",
       "    <tr>\n",
       "      <th>59995</th>\n",
       "      <td>0</td>\n",
       "      <td>0</td>\n",
       "      <td>0</td>\n",
       "      <td>0</td>\n",
       "      <td>0</td>\n",
       "      <td>0</td>\n",
       "      <td>0</td>\n",
       "      <td>0</td>\n",
       "      <td>1</td>\n",
       "      <td>0</td>\n",
       "    </tr>\n",
       "    <tr>\n",
       "      <th>59996</th>\n",
       "      <td>0</td>\n",
       "      <td>0</td>\n",
       "      <td>0</td>\n",
       "      <td>1</td>\n",
       "      <td>0</td>\n",
       "      <td>0</td>\n",
       "      <td>0</td>\n",
       "      <td>0</td>\n",
       "      <td>0</td>\n",
       "      <td>0</td>\n",
       "    </tr>\n",
       "    <tr>\n",
       "      <th>59997</th>\n",
       "      <td>0</td>\n",
       "      <td>0</td>\n",
       "      <td>0</td>\n",
       "      <td>0</td>\n",
       "      <td>0</td>\n",
       "      <td>1</td>\n",
       "      <td>0</td>\n",
       "      <td>0</td>\n",
       "      <td>0</td>\n",
       "      <td>0</td>\n",
       "    </tr>\n",
       "    <tr>\n",
       "      <th>59998</th>\n",
       "      <td>0</td>\n",
       "      <td>0</td>\n",
       "      <td>0</td>\n",
       "      <td>0</td>\n",
       "      <td>0</td>\n",
       "      <td>0</td>\n",
       "      <td>1</td>\n",
       "      <td>0</td>\n",
       "      <td>0</td>\n",
       "      <td>0</td>\n",
       "    </tr>\n",
       "    <tr>\n",
       "      <th>59999</th>\n",
       "      <td>0</td>\n",
       "      <td>0</td>\n",
       "      <td>0</td>\n",
       "      <td>0</td>\n",
       "      <td>0</td>\n",
       "      <td>0</td>\n",
       "      <td>0</td>\n",
       "      <td>0</td>\n",
       "      <td>1</td>\n",
       "      <td>0</td>\n",
       "    </tr>\n",
       "  </tbody>\n",
       "</table>\n",
       "<p>60000 rows × 10 columns</p>\n",
       "</div>"
      ],
      "text/plain": [
       "       0  1  2  3  4  5  6  7  8  9\n",
       "0      0  0  0  0  0  1  0  0  0  0\n",
       "1      1  0  0  0  0  0  0  0  0  0\n",
       "2      0  0  0  0  1  0  0  0  0  0\n",
       "3      0  1  0  0  0  0  0  0  0  0\n",
       "4      0  0  0  0  0  0  0  0  0  1\n",
       "...   .. .. .. .. .. .. .. .. .. ..\n",
       "59995  0  0  0  0  0  0  0  0  1  0\n",
       "59996  0  0  0  1  0  0  0  0  0  0\n",
       "59997  0  0  0  0  0  1  0  0  0  0\n",
       "59998  0  0  0  0  0  0  1  0  0  0\n",
       "59999  0  0  0  0  0  0  0  0  1  0\n",
       "\n",
       "[60000 rows x 10 columns]"
      ]
     },
     "execution_count": 28,
     "metadata": {},
     "output_type": "execute_result"
    }
   ],
   "source": [
    "pd.get_dummies(y_train)"
   ]
  },
  {
   "cell_type": "markdown",
   "metadata": {},
   "source": [
    "for example, the first number in y_train is 5, so in the first row only the '5' column contains 1, the second number in y_train is 0, so in the second row only the '0' column contains 1 etc."
   ]
  },
  {
   "cell_type": "code",
   "execution_count": 29,
   "metadata": {},
   "outputs": [],
   "source": [
    "# converting y_train and y_test in dummy variables\n",
    "y_train_dummies = pd.get_dummies(y_train)\n",
    "y_test_dummies = pd.get_dummies(y_test)"
   ]
  },
  {
   "cell_type": "markdown",
   "metadata": {},
   "source": [
    "So the new training will be done using 'y_train_dummies' and 'y_test_dummies'. Furthermore we use another loss function 'categorical_crossentropy', the exit layer will have 10 exit nodes and we add softmax activation function at the exit layer"
   ]
  },
  {
   "cell_type": "code",
   "execution_count": 30,
   "metadata": {},
   "outputs": [
    {
     "name": "stdout",
     "output_type": "stream",
     "text": [
      "Epoch 1/10\n",
      "1875/1875 [==============================] - 2s 1ms/step - loss: 0.2740 - accuracy: 0.9229 - val_loss: 0.1472 - val_accuracy: 0.9556\n",
      "Epoch 2/10\n",
      "1875/1875 [==============================] - 2s 980us/step - loss: 0.1240 - accuracy: 0.9637 - val_loss: 0.1044 - val_accuracy: 0.9675\n",
      "Epoch 3/10\n",
      "1875/1875 [==============================] - 2s 964us/step - loss: 0.0874 - accuracy: 0.9738 - val_loss: 0.0923 - val_accuracy: 0.9691\n",
      "Epoch 4/10\n",
      "1875/1875 [==============================] - 2s 964us/step - loss: 0.0660 - accuracy: 0.9802 - val_loss: 0.0797 - val_accuracy: 0.9753\n",
      "Epoch 5/10\n",
      "1875/1875 [==============================] - 2s 952us/step - loss: 0.0529 - accuracy: 0.9837 - val_loss: 0.0770 - val_accuracy: 0.9758\n",
      "Epoch 6/10\n",
      "1875/1875 [==============================] - 2s 978us/step - loss: 0.0427 - accuracy: 0.9869 - val_loss: 0.0791 - val_accuracy: 0.9751\n",
      "Epoch 7/10\n",
      "1875/1875 [==============================] - 2s 963us/step - loss: 0.0333 - accuracy: 0.9902 - val_loss: 0.0778 - val_accuracy: 0.9764\n",
      "Epoch 8/10\n",
      "1875/1875 [==============================] - 2s 938us/step - loss: 0.0281 - accuracy: 0.9916 - val_loss: 0.0731 - val_accuracy: 0.9777\n",
      "Epoch 9/10\n",
      "1875/1875 [==============================] - 2s 977us/step - loss: 0.0238 - accuracy: 0.9925 - val_loss: 0.0794 - val_accuracy: 0.9753\n",
      "Epoch 10/10\n",
      "1875/1875 [==============================] - 2s 1ms/step - loss: 0.0200 - accuracy: 0.9940 - val_loss: 0.0771 - val_accuracy: 0.9769\n"
     ]
    },
    {
     "data": {
      "text/plain": [
       "<keras.callbacks.History at 0x2b802012ce0>"
      ]
     },
     "execution_count": 30,
     "metadata": {},
     "output_type": "execute_result"
    }
   ],
   "source": [
    "model = Sequential()\n",
    "\n",
    "model.add(Dense(100,input_shape=(784,)))  # first layer \n",
    "model.add(Activation('relu'))\n",
    "\n",
    "model.add(Dense(10))  # exit layer\n",
    "model.add(Activation('softmax'))\n",
    "\n",
    "model.compile(optimizer='adam', loss='categorical_crossentropy', metrics=['accuracy']) # adam is an adaptive optimizer that uses stochastic gradient descent to find the best parameters\n",
    "\n",
    "model.fit(X_train_scaled, y_train_dummies, \n",
    "            validation_data=(X_test_scaled, y_test_dummies),\n",
    "            epochs=10)"
   ]
  },
  {
   "cell_type": "markdown",
   "metadata": {},
   "source": [
    "traning accuracy is pretty good! lets now evaluate the predictions:"
   ]
  },
  {
   "cell_type": "code",
   "execution_count": 31,
   "metadata": {},
   "outputs": [
    {
     "name": "stdout",
     "output_type": "stream",
     "text": [
      "313/313 [==============================] - 1s 2ms/step\n"
     ]
    },
    {
     "data": {
      "text/plain": [
       "(10000,)"
      ]
     },
     "execution_count": 31,
     "metadata": {},
     "output_type": "execute_result"
    }
   ],
   "source": [
    "y_pred = np.argmax(model.predict(X_test_scaled),axis=1)\n",
    "\n",
    "y_pred.shape"
   ]
  },
  {
   "cell_type": "code",
   "execution_count": 32,
   "metadata": {},
   "outputs": [
    {
     "name": "stdout",
     "output_type": "stream",
     "text": [
      "0.9769\n"
     ]
    }
   ],
   "source": [
    "score_classif = np.mean(y_pred == y_test)\n",
    "print(score_classif)"
   ]
  },
  {
   "cell_type": "code",
   "execution_count": 33,
   "metadata": {},
   "outputs": [],
   "source": [
    "# Save info\n",
    "summary_models.loc['Classification with 1 layer and 100 nodes'] = {'Score': score_classif}"
   ]
  },
  {
   "cell_type": "markdown",
   "metadata": {},
   "source": [
    "Cool, we've achieved a score of almost 98% with a simple NN (only one hidden layer). So at the end, the three modification 'cross function', 'dummy variables' and 'softmax' activation made us skip from 68 to 98% score."
   ]
  },
  {
   "cell_type": "markdown",
   "metadata": {},
   "source": [
    "Lets push even further, trying to increase the score above 99%. First thing we can do is increase the network depth."
   ]
  },
  {
   "cell_type": "code",
   "execution_count": 34,
   "metadata": {},
   "outputs": [
    {
     "name": "stdout",
     "output_type": "stream",
     "text": [
      "Epoch 1/30\n",
      "1875/1875 [==============================] - 32s 17ms/step - loss: 0.1806 - accuracy: 0.9447 - val_loss: 0.0961 - val_accuracy: 0.9700\n",
      "Epoch 2/30\n",
      "1875/1875 [==============================] - 30s 16ms/step - loss: 0.0812 - accuracy: 0.9747 - val_loss: 0.0920 - val_accuracy: 0.9708\n",
      "Epoch 3/30\n",
      "1875/1875 [==============================] - 29s 16ms/step - loss: 0.0593 - accuracy: 0.9817 - val_loss: 0.0790 - val_accuracy: 0.9760\n",
      "Epoch 4/30\n",
      "1875/1875 [==============================] - 29s 15ms/step - loss: 0.0445 - accuracy: 0.9862 - val_loss: 0.0759 - val_accuracy: 0.9790\n",
      "Epoch 5/30\n",
      "1875/1875 [==============================] - 28s 15ms/step - loss: 0.0365 - accuracy: 0.9880 - val_loss: 0.0826 - val_accuracy: 0.9802\n",
      "Epoch 6/30\n",
      "1875/1875 [==============================] - 28s 15ms/step - loss: 0.0318 - accuracy: 0.9907 - val_loss: 0.0867 - val_accuracy: 0.9784\n",
      "Epoch 7/30\n",
      "1875/1875 [==============================] - 28s 15ms/step - loss: 0.0275 - accuracy: 0.9917 - val_loss: 0.1083 - val_accuracy: 0.9781\n",
      "Epoch 8/30\n",
      "1875/1875 [==============================] - 28s 15ms/step - loss: 0.0257 - accuracy: 0.9922 - val_loss: 0.1001 - val_accuracy: 0.9795\n",
      "Epoch 9/30\n",
      "1875/1875 [==============================] - 50s 27ms/step - loss: 0.0221 - accuracy: 0.9938 - val_loss: 0.0938 - val_accuracy: 0.9815\n",
      "Epoch 10/30\n",
      "1875/1875 [==============================] - 29s 15ms/step - loss: 0.0230 - accuracy: 0.9939 - val_loss: 0.0984 - val_accuracy: 0.9806\n",
      "Epoch 11/30\n",
      "1875/1875 [==============================] - 28s 15ms/step - loss: 0.0204 - accuracy: 0.9941 - val_loss: 0.1194 - val_accuracy: 0.9807\n",
      "Epoch 12/30\n",
      "1875/1875 [==============================] - 30s 16ms/step - loss: 0.0176 - accuracy: 0.9952 - val_loss: 0.1349 - val_accuracy: 0.9791\n",
      "Epoch 13/30\n",
      "1875/1875 [==============================] - 32s 17ms/step - loss: 0.0201 - accuracy: 0.9950 - val_loss: 0.1452 - val_accuracy: 0.9772\n",
      "Epoch 14/30\n",
      "1875/1875 [==============================] - 34s 18ms/step - loss: 0.0172 - accuracy: 0.9957 - val_loss: 0.1584 - val_accuracy: 0.9771\n",
      "Epoch 15/30\n",
      "1875/1875 [==============================] - 33s 18ms/step - loss: 0.0147 - accuracy: 0.9960 - val_loss: 0.1486 - val_accuracy: 0.9773\n",
      "Epoch 16/30\n",
      "1875/1875 [==============================] - 32s 17ms/step - loss: 0.0227 - accuracy: 0.9949 - val_loss: 0.1587 - val_accuracy: 0.9796\n",
      "Epoch 17/30\n",
      "1875/1875 [==============================] - 32s 17ms/step - loss: 0.0129 - accuracy: 0.9970 - val_loss: 0.1378 - val_accuracy: 0.9831\n",
      "Epoch 18/30\n",
      "1875/1875 [==============================] - 36s 19ms/step - loss: 0.0193 - accuracy: 0.9955 - val_loss: 0.1495 - val_accuracy: 0.9822\n",
      "Epoch 19/30\n",
      "1875/1875 [==============================] - 35s 19ms/step - loss: 0.0119 - accuracy: 0.9972 - val_loss: 0.1650 - val_accuracy: 0.9792\n",
      "Epoch 20/30\n",
      "1875/1875 [==============================] - 34s 18ms/step - loss: 0.0190 - accuracy: 0.9961 - val_loss: 0.1888 - val_accuracy: 0.9795\n",
      "Epoch 21/30\n",
      "1875/1875 [==============================] - 34s 18ms/step - loss: 0.0151 - accuracy: 0.9968 - val_loss: 0.1697 - val_accuracy: 0.9799\n",
      "Epoch 22/30\n",
      "1875/1875 [==============================] - 37s 20ms/step - loss: 0.0159 - accuracy: 0.9967 - val_loss: 0.1601 - val_accuracy: 0.9831\n",
      "Epoch 23/30\n",
      "1875/1875 [==============================] - 35s 19ms/step - loss: 0.0131 - accuracy: 0.9975 - val_loss: 0.1864 - val_accuracy: 0.9813\n",
      "Epoch 24/30\n",
      "1875/1875 [==============================] - 35s 19ms/step - loss: 0.0137 - accuracy: 0.9970 - val_loss: 0.2209 - val_accuracy: 0.9774\n",
      "Epoch 25/30\n",
      "1875/1875 [==============================] - 35s 18ms/step - loss: 0.0138 - accuracy: 0.9973 - val_loss: 0.1858 - val_accuracy: 0.9823\n",
      "Epoch 26/30\n",
      "1875/1875 [==============================] - 34s 18ms/step - loss: 0.0180 - accuracy: 0.9966 - val_loss: 0.1964 - val_accuracy: 0.9815\n",
      "Epoch 27/30\n",
      "1875/1875 [==============================] - 34s 18ms/step - loss: 0.0091 - accuracy: 0.9981 - val_loss: 0.2330 - val_accuracy: 0.9809\n",
      "Epoch 28/30\n",
      "1875/1875 [==============================] - 34s 18ms/step - loss: 0.0181 - accuracy: 0.9966 - val_loss: 0.2739 - val_accuracy: 0.9799\n",
      "Epoch 29/30\n",
      "1875/1875 [==============================] - 35s 18ms/step - loss: 0.0177 - accuracy: 0.9970 - val_loss: 0.2288 - val_accuracy: 0.9825\n",
      "Epoch 30/30\n",
      "1875/1875 [==============================] - 33s 18ms/step - loss: 0.0099 - accuracy: 0.9981 - val_loss: 0.2998 - val_accuracy: 0.9757\n"
     ]
    }
   ],
   "source": [
    "model = Sequential()\n",
    "\n",
    "# first layer \n",
    "model.add(Dense(1000,input_shape=(784,)))\n",
    "model.add(Activation('relu'))\n",
    "\n",
    "# second layer \n",
    "model.add(Dense(1000))  # second layer \n",
    "model.add(Activation('relu'))\n",
    "\n",
    "# exit layer\n",
    "model.add(Dense(10))  \n",
    "model.add(Activation('softmax'))\n",
    "\n",
    "# adam is an adaptive optimizer that uses stochastic gradient descent to find the best parameters\n",
    "model.compile(optimizer='adam', loss='categorical_crossentropy', metrics=['accuracy']) \n",
    "\n",
    "history = model.fit(X_train_scaled, y_train_dummies, \n",
    "            validation_data=(X_test_scaled, y_test_dummies),\n",
    "            epochs=30)"
   ]
  },
  {
   "cell_type": "markdown",
   "metadata": {},
   "source": [
    "in this case it is not very explicit but after the epoch 20, little by little the score in the training set increases but on the validation set the score decreases. So, we are in a situation of overfitting"
   ]
  },
  {
   "cell_type": "code",
   "execution_count": 35,
   "metadata": {},
   "outputs": [
    {
     "data": {
      "text/plain": [
       "<function matplotlib.pyplot.show(close=None, block=None)>"
      ]
     },
     "execution_count": 35,
     "metadata": {},
     "output_type": "execute_result"
    },
    {
     "data": {
      "image/png": "[encoded data removed]",
      "text/plain": [
       "<Figure size 640x480 with 1 Axes>"
      ]
     },
     "metadata": {},
     "output_type": "display_data"
    }
   ],
   "source": [
    "plt.plot(history.history['accuracy'], label='training')\n",
    "plt.plot(history.history['val_accuracy'], label='test')\n",
    "plt.grid()\n",
    "plt.legend()\n",
    "plt.xlabel('epoch number')\n",
    "plt.ylabel('accuracy')\n",
    "plt.show"
   ]
  },
  {
   "cell_type": "code",
   "execution_count": 36,
   "metadata": {},
   "outputs": [
    {
     "name": "stdout",
     "output_type": "stream",
     "text": [
      "313/313 [==============================] - 1s 4ms/step\n"
     ]
    },
    {
     "data": {
      "text/plain": [
       "array([7, 2, 1, ..., 4, 5, 6], dtype=int64)"
      ]
     },
     "execution_count": 36,
     "metadata": {},
     "output_type": "execute_result"
    }
   ],
   "source": [
    "y_pred = np.argmax(model.predict(X_test_scaled),axis=1)\n",
    "y_pred"
   ]
  },
  {
   "cell_type": "code",
   "execution_count": 37,
   "metadata": {},
   "outputs": [
    {
     "name": "stdout",
     "output_type": "stream",
     "text": [
      "0.9757\n"
     ]
    }
   ],
   "source": [
    "score_classif_deep = np.mean(y_pred == y_test)\n",
    "print(score_classif_deep)"
   ]
  },
  {
   "cell_type": "code",
   "execution_count": 38,
   "metadata": {},
   "outputs": [],
   "source": [
    "# Save info\n",
    "summary_models.loc['Classification with 2 layers and 1000 nodes'] = {'Score': score_classif_deep}"
   ]
  },
  {
   "cell_type": "markdown",
   "metadata": {},
   "source": [
    "The overall score is 98%. From now on the challenge is understanding how to deal with overfitting."
   ]
  },
  {
   "cell_type": "markdown",
   "metadata": {},
   "source": [
    "The first thing we do is implementing the dropout function. This allows to ignore some nodes during the training stage and thus reducing the size of the network and the likelihood of overfitting"
   ]
  },
  {
   "cell_type": "code",
   "execution_count": 39,
   "metadata": {},
   "outputs": [
    {
     "name": "stdout",
     "output_type": "stream",
     "text": [
      "Epoch 1/30\n",
      "1875/1875 [==============================] - 29s 15ms/step - loss: 0.2755 - accuracy: 0.9151 - val_loss: 0.1633 - val_accuracy: 0.9481\n",
      "Epoch 2/30\n",
      "1875/1875 [==============================] - 29s 16ms/step - loss: 0.1629 - accuracy: 0.9516 - val_loss: 0.0955 - val_accuracy: 0.9696\n",
      "Epoch 3/30\n",
      "1875/1875 [==============================] - 30s 16ms/step - loss: 0.1392 - accuracy: 0.9594 - val_loss: 0.0847 - val_accuracy: 0.9751\n",
      "Epoch 4/30\n",
      "1875/1875 [==============================] - 29s 16ms/step - loss: 0.1288 - accuracy: 0.9624 - val_loss: 0.1001 - val_accuracy: 0.9701\n",
      "Epoch 5/30\n",
      "1875/1875 [==============================] - 31s 17ms/step - loss: 0.1208 - accuracy: 0.9655 - val_loss: 0.0872 - val_accuracy: 0.9738\n",
      "Epoch 6/30\n",
      "1875/1875 [==============================] - 31s 17ms/step - loss: 0.1152 - accuracy: 0.9672 - val_loss: 0.0822 - val_accuracy: 0.9769\n",
      "Epoch 7/30\n",
      "1875/1875 [==============================] - 31s 17ms/step - loss: 0.1093 - accuracy: 0.9692 - val_loss: 0.0862 - val_accuracy: 0.9777\n",
      "Epoch 8/30\n",
      "1875/1875 [==============================] - 139s 74ms/step - loss: 0.1038 - accuracy: 0.9716 - val_loss: 0.0822 - val_accuracy: 0.9775\n",
      "Epoch 9/30\n",
      "1875/1875 [==============================] - 66s 35ms/step - loss: 0.1033 - accuracy: 0.9723 - val_loss: 0.0710 - val_accuracy: 0.9803\n",
      "Epoch 10/30\n",
      "1875/1875 [==============================] - 28s 15ms/step - loss: 0.1018 - accuracy: 0.9736 - val_loss: 0.0720 - val_accuracy: 0.9805\n",
      "Epoch 11/30\n",
      "1875/1875 [==============================] - 28s 15ms/step - loss: 0.0978 - accuracy: 0.9733 - val_loss: 0.0696 - val_accuracy: 0.9813\n",
      "Epoch 12/30\n",
      "1875/1875 [==============================] - 28s 15ms/step - loss: 0.0945 - accuracy: 0.9748 - val_loss: 0.0712 - val_accuracy: 0.9815\n",
      "Epoch 13/30\n",
      "1875/1875 [==============================] - 29s 16ms/step - loss: 0.0943 - accuracy: 0.9747 - val_loss: 0.0685 - val_accuracy: 0.9819\n",
      "Epoch 14/30\n",
      "1875/1875 [==============================] - 29s 16ms/step - loss: 0.0931 - accuracy: 0.9759 - val_loss: 0.0939 - val_accuracy: 0.9808\n",
      "Epoch 15/30\n",
      "1875/1875 [==============================] - 29s 16ms/step - loss: 0.0908 - accuracy: 0.9765 - val_loss: 0.0860 - val_accuracy: 0.9812\n",
      "Epoch 16/30\n",
      "1875/1875 [==============================] - 29s 16ms/step - loss: 0.0881 - accuracy: 0.9782 - val_loss: 0.0865 - val_accuracy: 0.9819\n",
      "Epoch 17/30\n",
      "1875/1875 [==============================] - 30s 16ms/step - loss: 0.0920 - accuracy: 0.9765 - val_loss: 0.0818 - val_accuracy: 0.9810\n",
      "Epoch 18/30\n",
      "1875/1875 [==============================] - 29s 15ms/step - loss: 0.0849 - accuracy: 0.9793 - val_loss: 0.0876 - val_accuracy: 0.9819\n",
      "Epoch 19/30\n",
      "1875/1875 [==============================] - 31s 16ms/step - loss: 0.0886 - accuracy: 0.9786 - val_loss: 0.0742 - val_accuracy: 0.9820\n",
      "Epoch 20/30\n",
      "1875/1875 [==============================] - 32s 17ms/step - loss: 0.0891 - accuracy: 0.9785 - val_loss: 0.0881 - val_accuracy: 0.9820\n",
      "Epoch 21/30\n",
      "1875/1875 [==============================] - 30s 16ms/step - loss: 0.0899 - accuracy: 0.9786 - val_loss: 0.0845 - val_accuracy: 0.9815\n",
      "Epoch 22/30\n",
      "1875/1875 [==============================] - 30s 16ms/step - loss: 0.0905 - accuracy: 0.9791 - val_loss: 0.0819 - val_accuracy: 0.9842\n",
      "Epoch 23/30\n",
      "1875/1875 [==============================] - 31s 16ms/step - loss: 0.0838 - accuracy: 0.9790 - val_loss: 0.0905 - val_accuracy: 0.9830\n",
      "Epoch 24/30\n",
      "1875/1875 [==============================] - 30s 16ms/step - loss: 0.0870 - accuracy: 0.9801 - val_loss: 0.1002 - val_accuracy: 0.9800\n",
      "Epoch 25/30\n",
      "1875/1875 [==============================] - 30s 16ms/step - loss: 0.0859 - accuracy: 0.9817 - val_loss: 0.0869 - val_accuracy: 0.9822\n",
      "Epoch 26/30\n",
      "1875/1875 [==============================] - 32s 17ms/step - loss: 0.0868 - accuracy: 0.9803 - val_loss: 0.0947 - val_accuracy: 0.9797\n",
      "Epoch 27/30\n",
      "1875/1875 [==============================] - 36s 19ms/step - loss: 0.0825 - accuracy: 0.9816 - val_loss: 0.0924 - val_accuracy: 0.9832\n",
      "Epoch 28/30\n",
      "1875/1875 [==============================] - 38s 20ms/step - loss: 0.0857 - accuracy: 0.9815 - val_loss: 0.0887 - val_accuracy: 0.9833\n",
      "Epoch 29/30\n",
      "1875/1875 [==============================] - 37s 20ms/step - loss: 0.0883 - accuracy: 0.9809 - val_loss: 0.0839 - val_accuracy: 0.9830\n",
      "Epoch 30/30\n",
      "1875/1875 [==============================] - 37s 20ms/step - loss: 0.0866 - accuracy: 0.9811 - val_loss: 0.0839 - val_accuracy: 0.9830\n"
     ]
    }
   ],
   "source": [
    "model = Sequential()\n",
    "\n",
    "# first layer \n",
    "model.add(Dense(1000,input_shape=(784,)))\n",
    "model.add(Activation('relu'))\n",
    "model.add(Dropout(0.5))\n",
    "\n",
    "# second layer \n",
    "model.add(Dense(1000))  # second layer \n",
    "model.add(Activation('relu'))\n",
    "model.add(Dropout(0.5))\n",
    "\n",
    "# exit layer\n",
    "model.add(Dense(10))  \n",
    "model.add(Activation('softmax'))\n",
    "\n",
    "model.compile(optimizer='adam', loss='categorical_crossentropy', metrics=['accuracy'])\n",
    "# adam is an adaptive optimizer that uses stochastic gradient descent to find the best parameters\n",
    "\n",
    "history = model.fit(X_train_scaled, y_train_dummies, \n",
    "            validation_data=(X_test_scaled, y_test_dummies),\n",
    "            epochs=30)"
   ]
  },
  {
   "cell_type": "code",
   "execution_count": 40,
   "metadata": {},
   "outputs": [
    {
     "data": {
      "text/plain": [
       "<function matplotlib.pyplot.show(close=None, block=None)>"
      ]
     },
     "execution_count": 40,
     "metadata": {},
     "output_type": "execute_result"
    },
    {
     "data": {
      "image/png": "[encoded data removed]",
      "text/plain": [
       "<Figure size 640x480 with 1 Axes>"
      ]
     },
     "metadata": {},
     "output_type": "display_data"
    }
   ],
   "source": [
    "plt.plot(history.history['accuracy'], label='training')\n",
    "plt.plot(history.history['val_accuracy'], label='test')\n",
    "plt.grid()\n",
    "plt.legend()\n",
    "plt.xlabel('epoch number')\n",
    "plt.ylabel('accuracy')\n",
    "plt.show"
   ]
  },
  {
   "cell_type": "markdown",
   "metadata": {},
   "source": [
    "we can see that the overfitting is gone beacause we have a similar accuracy in training and test. To be more specific, the test accuracy is greater than training, so we probably exaggerated with dropout. Lets repeat the model training with dropout=0.4"
   ]
  },
  {
   "cell_type": "markdown",
   "metadata": {},
   "source": [
    "we will change some more details. Since the training lasts many epochs, the network will inevitably overfit (so memorizing data). To avoid this, we can use the so called callbacks. This could be the EarlyStopping (meaning that the network can stop after a certain number of epochs if there's no improvement on the val_accuracy)"
   ]
  },
  {
   "cell_type": "code",
   "execution_count": 41,
   "metadata": {},
   "outputs": [],
   "source": [
    "from keras.callbacks import EarlyStopping, ModelCheckpoint"
   ]
  },
  {
   "cell_type": "code",
   "execution_count": 42,
   "metadata": {},
   "outputs": [
    {
     "name": "stdout",
     "output_type": "stream",
     "text": [
      "Epoch 1/30\n",
      "1875/1875 [==============================] - ETA: 0s - loss: 0.2433 - accuracy: 0.9253\n",
      "Epoch 1: val_accuracy improved from -inf to 0.96170, saving model to best_model.hdf5\n",
      "1875/1875 [==============================] - 32s 17ms/step - loss: 0.2433 - accuracy: 0.9253 - val_loss: 0.1176 - val_accuracy: 0.9617\n",
      "Epoch 2/30\n",
      "1874/1875 [============================>.] - ETA: 0s - loss: 0.1365 - accuracy: 0.9594\n",
      "Epoch 2: val_accuracy improved from 0.96170 to 0.97140, saving model to best_model.hdf5\n",
      "1875/1875 [==============================] - 31s 17ms/step - loss: 0.1365 - accuracy: 0.9594 - val_loss: 0.0957 - val_accuracy: 0.9714\n",
      "Epoch 3/30\n",
      "1872/1875 [============================>.] - ETA: 0s - loss: 0.1131 - accuracy: 0.9671\n",
      "Epoch 3: val_accuracy improved from 0.97140 to 0.97470, saving model to best_model.hdf5\n",
      "1875/1875 [==============================] - 31s 17ms/step - loss: 0.1132 - accuracy: 0.9671 - val_loss: 0.0853 - val_accuracy: 0.9747\n",
      "Epoch 4/30\n",
      "1874/1875 [============================>.] - ETA: 0s - loss: 0.1018 - accuracy: 0.9697\n",
      "Epoch 4: val_accuracy did not improve from 0.97470\n",
      "1875/1875 [==============================] - 32s 17ms/step - loss: 0.1018 - accuracy: 0.9696 - val_loss: 0.0890 - val_accuracy: 0.9732\n",
      "Epoch 5/30\n",
      "1873/1875 [============================>.] - ETA: 0s - loss: 0.0896 - accuracy: 0.9735\n",
      "Epoch 5: val_accuracy improved from 0.97470 to 0.97770, saving model to best_model.hdf5\n",
      "1875/1875 [==============================] - 32s 17ms/step - loss: 0.0899 - accuracy: 0.9734 - val_loss: 0.0752 - val_accuracy: 0.9777\n",
      "Epoch 6/30\n",
      "1875/1875 [==============================] - ETA: 0s - loss: 0.0857 - accuracy: 0.9742\n",
      "Epoch 6: val_accuracy did not improve from 0.97770\n",
      "1875/1875 [==============================] - 32s 17ms/step - loss: 0.0857 - accuracy: 0.9742 - val_loss: 0.0810 - val_accuracy: 0.9772\n",
      "Epoch 7/30\n",
      "1873/1875 [============================>.] - ETA: 0s - loss: 0.0819 - accuracy: 0.9765\n",
      "Epoch 7: val_accuracy improved from 0.97770 to 0.97830, saving model to best_model.hdf5\n",
      "1875/1875 [==============================] - 32s 17ms/step - loss: 0.0821 - accuracy: 0.9765 - val_loss: 0.0892 - val_accuracy: 0.9783\n",
      "Epoch 8/30\n",
      "1873/1875 [============================>.] - ETA: 0s - loss: 0.0749 - accuracy: 0.9792\n",
      "Epoch 8: val_accuracy improved from 0.97830 to 0.97980, saving model to best_model.hdf5\n",
      "1875/1875 [==============================] - 30s 16ms/step - loss: 0.0749 - accuracy: 0.9792 - val_loss: 0.0738 - val_accuracy: 0.9798\n",
      "Epoch 9/30\n",
      "1872/1875 [============================>.] - ETA: 0s - loss: 0.0768 - accuracy: 0.9789\n",
      "Epoch 9: val_accuracy improved from 0.97980 to 0.98090, saving model to best_model.hdf5\n",
      "1875/1875 [==============================] - 30s 16ms/step - loss: 0.0768 - accuracy: 0.9789 - val_loss: 0.0784 - val_accuracy: 0.9809\n",
      "Epoch 10/30\n",
      "1875/1875 [==============================] - ETA: 0s - loss: 0.0734 - accuracy: 0.9797\n",
      "Epoch 10: val_accuracy did not improve from 0.98090\n",
      "1875/1875 [==============================] - 30s 16ms/step - loss: 0.0734 - accuracy: 0.9797 - val_loss: 0.0748 - val_accuracy: 0.9805\n",
      "Epoch 11/30\n",
      "1874/1875 [============================>.] - ETA: 0s - loss: 0.0714 - accuracy: 0.9803\n",
      "Epoch 11: val_accuracy did not improve from 0.98090\n",
      "1875/1875 [==============================] - 30s 16ms/step - loss: 0.0714 - accuracy: 0.9803 - val_loss: 0.0966 - val_accuracy: 0.9781\n",
      "Epoch 12/30\n",
      "1873/1875 [============================>.] - ETA: 0s - loss: 0.0701 - accuracy: 0.9811\n",
      "Epoch 12: val_accuracy improved from 0.98090 to 0.98110, saving model to best_model.hdf5\n",
      "1875/1875 [==============================] - 30s 16ms/step - loss: 0.0701 - accuracy: 0.9811 - val_loss: 0.0729 - val_accuracy: 0.9811\n",
      "Epoch 13/30\n",
      "1874/1875 [============================>.] - ETA: 0s - loss: 0.0680 - accuracy: 0.9826\n",
      "Epoch 13: val_accuracy improved from 0.98110 to 0.98230, saving model to best_model.hdf5\n",
      "1875/1875 [==============================] - 30s 16ms/step - loss: 0.0680 - accuracy: 0.9826 - val_loss: 0.0775 - val_accuracy: 0.9823\n",
      "Epoch 14/30\n",
      "1874/1875 [============================>.] - ETA: 0s - loss: 0.0674 - accuracy: 0.9826\n",
      "Epoch 14: val_accuracy did not improve from 0.98230\n",
      "1875/1875 [==============================] - 31s 16ms/step - loss: 0.0673 - accuracy: 0.9826 - val_loss: 0.0924 - val_accuracy: 0.9819\n",
      "Epoch 15/30\n",
      "1874/1875 [============================>.] - ETA: 0s - loss: 0.0665 - accuracy: 0.9828\n",
      "Epoch 15: val_accuracy improved from 0.98230 to 0.98340, saving model to best_model.hdf5\n",
      "1875/1875 [==============================] - 30s 16ms/step - loss: 0.0665 - accuracy: 0.9828 - val_loss: 0.0739 - val_accuracy: 0.9834\n",
      "Epoch 16/30\n",
      "1874/1875 [============================>.] - ETA: 0s - loss: 0.0644 - accuracy: 0.9835\n",
      "Epoch 16: val_accuracy did not improve from 0.98340\n",
      "1875/1875 [==============================] - 31s 16ms/step - loss: 0.0646 - accuracy: 0.9835 - val_loss: 0.0915 - val_accuracy: 0.9823\n",
      "Epoch 17/30\n",
      "1875/1875 [==============================] - ETA: 0s - loss: 0.0649 - accuracy: 0.9837\n",
      "Epoch 17: val_accuracy did not improve from 0.98340\n",
      "1875/1875 [==============================] - 31s 16ms/step - loss: 0.0649 - accuracy: 0.9837 - val_loss: 0.1099 - val_accuracy: 0.9806\n",
      "Epoch 18/30\n",
      "1873/1875 [============================>.] - ETA: 0s - loss: 0.0626 - accuracy: 0.9838\n",
      "Epoch 18: val_accuracy did not improve from 0.98340\n",
      "1875/1875 [==============================] - 33s 17ms/step - loss: 0.0627 - accuracy: 0.9838 - val_loss: 0.0906 - val_accuracy: 0.9812\n",
      "Epoch 19/30\n",
      "1873/1875 [============================>.] - ETA: 0s - loss: 0.0613 - accuracy: 0.9849\n",
      "Epoch 19: val_accuracy did not improve from 0.98340\n",
      "1875/1875 [==============================] - 35s 19ms/step - loss: 0.0613 - accuracy: 0.9849 - val_loss: 0.0872 - val_accuracy: 0.9830\n",
      "Epoch 20/30\n",
      "1873/1875 [============================>.] - ETA: 0s - loss: 0.0645 - accuracy: 0.9844\n",
      "Epoch 20: val_accuracy did not improve from 0.98340\n",
      "1875/1875 [==============================] - 38s 20ms/step - loss: 0.0644 - accuracy: 0.9844 - val_loss: 0.0800 - val_accuracy: 0.9821\n"
     ]
    }
   ],
   "source": [
    "model = Sequential()\n",
    "\n",
    "# first layer \n",
    "model.add(Dense(1000,input_shape=(784,)))\n",
    "model.add(Activation('relu'))\n",
    "model.add(Dropout(0.4))\n",
    "\n",
    "# second layer \n",
    "model.add(Dense(1000))  # second layer \n",
    "model.add(Activation('relu'))\n",
    "model.add(Dropout(0.4))\n",
    "\n",
    "# exit layer\n",
    "model.add(Dense(10))  \n",
    "model.add(Activation('softmax'))\n",
    "\n",
    "model.compile(optimizer='adam', loss='categorical_crossentropy', metrics=['accuracy']) # adam is an adaptive optimizer that uses stochastic gradient descent to find the best parameters\n",
    "\n",
    "early_stopping_monitor = EarlyStopping(patience=5, monitor='val_accuracy')  \n",
    "\n",
    "# with this callback, we save the best model (the one with the highest validation accuracy)\n",
    "model_checkpoint_callback = ModelCheckpoint(filepath='best_model.hdf5', \n",
    "                                                monitor='val_accuracy', \n",
    "                                                mode='auto', \n",
    "                                                save_best_only=True,\n",
    "                                                verbose=1)\n",
    "\n",
    "history = model.fit(X_train_scaled, y_train_dummies, \n",
    "            validation_data=(X_test_scaled, y_test_dummies),\n",
    "            epochs=30,\n",
    "            callbacks=[early_stopping_monitor, model_checkpoint_callback])"
   ]
  },
  {
   "cell_type": "code",
   "execution_count": 43,
   "metadata": {},
   "outputs": [
    {
     "data": {
      "text/plain": [
       "<function matplotlib.pyplot.show(close=None, block=None)>"
      ]
     },
     "execution_count": 43,
     "metadata": {},
     "output_type": "execute_result"
    },
    {
     "data": {
      "image/png": "[encoded data removed]",
      "text/plain": [
       "<Figure size 640x480 with 1 Axes>"
      ]
     },
     "metadata": {},
     "output_type": "display_data"
    }
   ],
   "source": [
    "plt.plot(history.history['accuracy'], label='training')\n",
    "plt.plot(history.history['val_accuracy'], label='test')\n",
    "plt.grid()\n",
    "plt.legend()\n",
    "plt.xlabel('epoch number')\n",
    "plt.ylabel('accuracy')\n",
    "plt.show"
   ]
  },
  {
   "cell_type": "markdown",
   "metadata": {},
   "source": [
    "ok, there is not overfitting but just a soft discrepancy between training and test"
   ]
  },
  {
   "cell_type": "code",
   "execution_count": 44,
   "metadata": {},
   "outputs": [
    {
     "name": "stdout",
     "output_type": "stream",
     "text": [
      "313/313 [==============================] - 1s 3ms/step\n"
     ]
    },
    {
     "data": {
      "text/plain": [
       "array([7, 2, 1, ..., 4, 5, 6], dtype=int64)"
      ]
     },
     "execution_count": 44,
     "metadata": {},
     "output_type": "execute_result"
    }
   ],
   "source": [
    "# loading the best model just found\n",
    "from keras.models import load_model\n",
    "best_model = load_model('best_model.hdf5')\n",
    "\n",
    "y_pred = np.argmax(best_model.predict(X_test_scaled),axis=1)\n",
    "y_pred"
   ]
  },
  {
   "cell_type": "code",
   "execution_count": 45,
   "metadata": {},
   "outputs": [
    {
     "name": "stdout",
     "output_type": "stream",
     "text": [
      "0.9834\n"
     ]
    }
   ],
   "source": [
    "score_classif_dropout = np.mean(y_pred == y_test)\n",
    "print(score_classif_dropout)"
   ]
  },
  {
   "cell_type": "code",
   "execution_count": 46,
   "metadata": {},
   "outputs": [],
   "source": [
    "# Save info\n",
    "summary_models.loc['Classification with 2 layers, 1000 nodes and dropout'] = {'Score': score_classif_dropout}"
   ]
  },
  {
   "cell_type": "markdown",
   "metadata": {},
   "source": [
    "the accuracy is slightly better than before but we did not reach 99% accuracy. Lets see some interesting aspects, a confusion matrix for example:"
   ]
  },
  {
   "cell_type": "code",
   "execution_count": 47,
   "metadata": {},
   "outputs": [
    {
     "data": {
      "text/plain": [
       "array([[ 969,    1,    1,    1,    1,    0,    2,    0,    2,    3],\n",
       "       [   0, 1123,    4,    0,    0,    0,    2,    1,    5,    0],\n",
       "       [   1,    0, 1021,    1,    1,    0,    1,    4,    3,    0],\n",
       "       [   0,    0,    2,  985,    0,    7,    0,    4,    2,   10],\n",
       "       [   1,    2,    2,    0,  964,    0,    4,    1,    0,    8],\n",
       "       [   2,    0,    0,    4,    0,  881,    2,    0,    3,    0],\n",
       "       [   3,    2,    0,    0,    3,    7,  942,    0,    1,    0],\n",
       "       [   1,    4,   10,    0,    1,    0,    0, 1005,    3,    4],\n",
       "       [   2,    0,    2,    2,    2,    6,    0,    3,  954,    3],\n",
       "       [   1,    2,    0,    1,   11,    1,    0,    1,    2,  990]],\n",
       "      dtype=int64)"
      ]
     },
     "execution_count": 47,
     "metadata": {},
     "output_type": "execute_result"
    }
   ],
   "source": [
    "from sklearn.metrics import confusion_matrix\n",
    "\n",
    "confusion_matrix(y_test, y_pred)"
   ]
  },
  {
   "cell_type": "markdown",
   "metadata": {},
   "source": [
    "This matrix helps us to understand how data are learned from the NN. The Zero is almost always recognized, One sometimes is exchanged with 8, Two with 7, Nine with 4 etc.  If all numbers outside the diagonal were zeros then the model would be perfect. This matrix shows how data are confused."
   ]
  },
  {
   "cell_type": "markdown",
   "metadata": {},
   "source": [
    "Another interesting thing we can do is analyze how big is this NN:"
   ]
  },
  {
   "cell_type": "code",
   "execution_count": 48,
   "metadata": {},
   "outputs": [
    {
     "name": "stdout",
     "output_type": "stream",
     "text": [
      "Model: \"sequential_6\"\n",
      "_________________________________________________________________\n",
      " Layer (type)                Output Shape              Param #   \n",
      "=================================================================\n",
      " dense_14 (Dense)            (None, 1000)              785000    \n",
      "                                                                 \n",
      " activation_10 (Activation)  (None, 1000)              0         \n",
      "                                                                 \n",
      " dropout_2 (Dropout)         (None, 1000)              0         \n",
      "                                                                 \n",
      " dense_15 (Dense)            (None, 1000)              1001000   \n",
      "                                                                 \n",
      " activation_11 (Activation)  (None, 1000)              0         \n",
      "                                                                 \n",
      " dropout_3 (Dropout)         (None, 1000)              0         \n",
      "                                                                 \n",
      " dense_16 (Dense)            (None, 10)                10010     \n",
      "                                                                 \n",
      " activation_12 (Activation)  (None, 10)                0         \n",
      "                                                                 \n",
      "=================================================================\n",
      "Total params: 1,796,010\n",
      "Trainable params: 1,796,010\n",
      "Non-trainable params: 0\n",
      "_________________________________________________________________\n"
     ]
    }
   ],
   "source": [
    "# printing NN info\n",
    "best_model.summary()"
   ]
  },
  {
   "cell_type": "markdown",
   "metadata": {},
   "source": [
    "This table says that Network made with two hidden layers has around 1.8 millions parameters. Lets get this number in another way:"
   ]
  },
  {
   "cell_type": "code",
   "execution_count": 51,
   "metadata": {},
   "outputs": [
    {
     "name": "stdout",
     "output_type": "stream",
     "text": [
      "785000\n",
      "1001000\n",
      "10010\n",
      "total number of parameters: 1796010\n"
     ]
    }
   ],
   "source": [
    "input_dim = 784\n",
    "layer1_dim = 1000\n",
    "layer2_dim = 1000\n",
    "output_dim = 10\n",
    "\n",
    "# multiplying dimensions of layer1 and layer2 and then sum the number of bias(same dimension of layer2)\n",
    "parameter1 = input_dim * layer1_dim + layer1_dim\n",
    "print(parameter1)\n",
    "\n",
    "parameter2 = layer1_dim * layer2_dim + layer2_dim\n",
    "print(parameter2)\n",
    "\n",
    "parameter3 = layer2_dim * output_dim + output_dim\n",
    "print(parameter3)\n",
    "\n",
    "tot_parameters = parameter1 +parameter2 + parameter3\n",
    "print('total number of parameters:', tot_parameters)"
   ]
  },
  {
   "cell_type": "markdown",
   "metadata": {},
   "source": [
    "### 2.3 Convolutional Neural Network <a id='2.3'></a>"
   ]
  },
  {
   "cell_type": "markdown",
   "metadata": {},
   "source": [
    "Lets now try to achieve 99% accuracy using convolutional NN. We should import new dependencies:"
   ]
  },
  {
   "cell_type": "code",
   "execution_count": 52,
   "metadata": {},
   "outputs": [],
   "source": [
    "from keras.models import load_model\n",
    "from keras.layers import Conv2D, Flatten, AveragePooling2D"
   ]
  },
  {
   "cell_type": "code",
   "execution_count": 54,
   "metadata": {},
   "outputs": [],
   "source": [
    "X_train_tensor = X_train_scaled.reshape(60000,28,28,1)\n",
    "X_test_tensor = X_test_scaled.reshape(10000,28,28,1)\n",
    "# this means 60k images with 28x28 pixels each and 1 to indicate the greyscale. If it was RGB, instead of 1, there would be 3"
   ]
  },
  {
   "cell_type": "markdown",
   "metadata": {},
   "source": [
    "We are going to use a LeNet5 architecture, this means five layers set in the following way:"
   ]
  },
  {
   "cell_type": "code",
   "execution_count": 55,
   "metadata": {},
   "outputs": [
    {
     "name": "stdout",
     "output_type": "stream",
     "text": [
      "Epoch 1/30\n",
      "1865/1875 [============================>.] - ETA: 0s - loss: 0.2101 - accuracy: 0.9364\n",
      "Epoch 1: val_accuracy improved from -inf to 0.97930, saving model to best_model.hdf5\n",
      "1875/1875 [==============================] - 17s 9ms/step - loss: 0.2094 - accuracy: 0.9365 - val_loss: 0.0698 - val_accuracy: 0.9793\n",
      "Epoch 2/30\n",
      "1871/1875 [============================>.] - ETA: 0s - loss: 0.0718 - accuracy: 0.9781\n",
      "Epoch 2: val_accuracy improved from 0.97930 to 0.98390, saving model to best_model.hdf5\n",
      "1875/1875 [==============================] - 11s 6ms/step - loss: 0.0718 - accuracy: 0.9780 - val_loss: 0.0495 - val_accuracy: 0.9839\n",
      "Epoch 3/30\n",
      "1874/1875 [============================>.] - ETA: 0s - loss: 0.0514 - accuracy: 0.9839\n",
      "Epoch 3: val_accuracy improved from 0.98390 to 0.98730, saving model to best_model.hdf5\n",
      "1875/1875 [==============================] - 11s 6ms/step - loss: 0.0514 - accuracy: 0.9839 - val_loss: 0.0400 - val_accuracy: 0.9873\n",
      "Epoch 4/30\n",
      "1872/1875 [============================>.] - ETA: 0s - loss: 0.0394 - accuracy: 0.9877\n",
      "Epoch 4: val_accuracy did not improve from 0.98730\n",
      "1875/1875 [==============================] - 12s 6ms/step - loss: 0.0395 - accuracy: 0.9877 - val_loss: 0.0425 - val_accuracy: 0.9864\n",
      "Epoch 5/30\n",
      "1871/1875 [============================>.] - ETA: 0s - loss: 0.0322 - accuracy: 0.9897\n",
      "Epoch 5: val_accuracy improved from 0.98730 to 0.98780, saving model to best_model.hdf5\n",
      "1875/1875 [==============================] - 12s 6ms/step - loss: 0.0322 - accuracy: 0.9897 - val_loss: 0.0351 - val_accuracy: 0.9878\n",
      "Epoch 6/30\n",
      "1869/1875 [============================>.] - ETA: 0s - loss: 0.0265 - accuracy: 0.9914\n",
      "Epoch 6: val_accuracy improved from 0.98780 to 0.98880, saving model to best_model.hdf5\n",
      "1875/1875 [==============================] - 13s 7ms/step - loss: 0.0265 - accuracy: 0.9914 - val_loss: 0.0357 - val_accuracy: 0.9888\n",
      "Epoch 7/30\n",
      "1867/1875 [============================>.] - ETA: 0s - loss: 0.0221 - accuracy: 0.9925\n",
      "Epoch 7: val_accuracy improved from 0.98880 to 0.99060, saving model to best_model.hdf5\n",
      "1875/1875 [==============================] - 13s 7ms/step - loss: 0.0221 - accuracy: 0.9925 - val_loss: 0.0303 - val_accuracy: 0.9906\n",
      "Epoch 8/30\n",
      "1874/1875 [============================>.] - ETA: 0s - loss: 0.0186 - accuracy: 0.9936\n",
      "Epoch 8: val_accuracy did not improve from 0.99060\n",
      "1875/1875 [==============================] - 13s 7ms/step - loss: 0.0186 - accuracy: 0.9937 - val_loss: 0.0456 - val_accuracy: 0.9868\n",
      "Epoch 9/30\n",
      "1871/1875 [============================>.] - ETA: 0s - loss: 0.0166 - accuracy: 0.9944\n",
      "Epoch 9: val_accuracy improved from 0.99060 to 0.99120, saving model to best_model.hdf5\n",
      "1875/1875 [==============================] - 11s 6ms/step - loss: 0.0167 - accuracy: 0.9944 - val_loss: 0.0323 - val_accuracy: 0.9912\n",
      "Epoch 10/30\n",
      "1873/1875 [============================>.] - ETA: 0s - loss: 0.0137 - accuracy: 0.9955\n",
      "Epoch 10: val_accuracy did not improve from 0.99120\n",
      "1875/1875 [==============================] - 11s 6ms/step - loss: 0.0137 - accuracy: 0.9955 - val_loss: 0.0366 - val_accuracy: 0.9891\n",
      "Epoch 11/30\n",
      "1870/1875 [============================>.] - ETA: 0s - loss: 0.0117 - accuracy: 0.9962\n",
      "Epoch 11: val_accuracy did not improve from 0.99120\n",
      "1875/1875 [==============================] - 11s 6ms/step - loss: 0.0118 - accuracy: 0.9962 - val_loss: 0.0398 - val_accuracy: 0.9889\n",
      "Epoch 12/30\n",
      "1869/1875 [============================>.] - ETA: 0s - loss: 0.0118 - accuracy: 0.9961\n",
      "Epoch 12: val_accuracy did not improve from 0.99120\n",
      "1875/1875 [==============================] - 11s 6ms/step - loss: 0.0119 - accuracy: 0.9961 - val_loss: 0.0420 - val_accuracy: 0.9884\n",
      "Epoch 13/30\n",
      "1869/1875 [============================>.] - ETA: 0s - loss: 0.0099 - accuracy: 0.9968\n",
      "Epoch 13: val_accuracy did not improve from 0.99120\n",
      "1875/1875 [==============================] - 11s 6ms/step - loss: 0.0099 - accuracy: 0.9968 - val_loss: 0.0343 - val_accuracy: 0.9906\n",
      "Epoch 14/30\n",
      "1874/1875 [============================>.] - ETA: 0s - loss: 0.0091 - accuracy: 0.9972\n",
      "Epoch 14: val_accuracy improved from 0.99120 to 0.99180, saving model to best_model.hdf5\n",
      "1875/1875 [==============================] - 11s 6ms/step - loss: 0.0091 - accuracy: 0.9972 - val_loss: 0.0358 - val_accuracy: 0.9918\n",
      "Epoch 15/30\n",
      "1869/1875 [============================>.] - ETA: 0s - loss: 0.0069 - accuracy: 0.9975\n",
      "Epoch 15: val_accuracy did not improve from 0.99180\n",
      "1875/1875 [==============================] - 11s 6ms/step - loss: 0.0069 - accuracy: 0.9975 - val_loss: 0.0470 - val_accuracy: 0.9880\n",
      "Epoch 16/30\n",
      "1875/1875 [==============================] - ETA: 0s - loss: 0.0070 - accuracy: 0.9975\n",
      "Epoch 16: val_accuracy did not improve from 0.99180\n",
      "1875/1875 [==============================] - 11s 6ms/step - loss: 0.0070 - accuracy: 0.9975 - val_loss: 0.0442 - val_accuracy: 0.9890\n",
      "Epoch 17/30\n",
      "1866/1875 [============================>.] - ETA: 0s - loss: 0.0077 - accuracy: 0.9975\n",
      "Epoch 17: val_accuracy did not improve from 0.99180\n",
      "1875/1875 [==============================] - 12s 7ms/step - loss: 0.0077 - accuracy: 0.9975 - val_loss: 0.0411 - val_accuracy: 0.9896\n",
      "Epoch 18/30\n",
      "1869/1875 [============================>.] - ETA: 0s - loss: 0.0075 - accuracy: 0.9978\n",
      "Epoch 18: val_accuracy did not improve from 0.99180\n",
      "1875/1875 [==============================] - 11s 6ms/step - loss: 0.0075 - accuracy: 0.9978 - val_loss: 0.0472 - val_accuracy: 0.9891\n",
      "Epoch 19/30\n",
      "1871/1875 [============================>.] - ETA: 0s - loss: 0.0063 - accuracy: 0.9979\n",
      "Epoch 19: val_accuracy did not improve from 0.99180\n",
      "1875/1875 [==============================] - 11s 6ms/step - loss: 0.0063 - accuracy: 0.9979 - val_loss: 0.0476 - val_accuracy: 0.9893\n"
     ]
    }
   ],
   "source": [
    "model = Sequential()\n",
    "\n",
    "# 1st convolutional layer\n",
    "model.add(Conv2D(filters=6, kernel_size=(5, 5), padding='same', activation='relu', input_shape=(28,28,1)))\n",
    "model.add(AveragePooling2D()) # with this line, we go from an 28x28 image to a 14x14\n",
    "\n",
    "# 2nd convolutional layer\n",
    "model.add(Conv2D(filters=16, kernel_size=(5, 5), padding='valid', activation='relu'))\n",
    "# with padding='valid' the image is reduced from 14x14 to 10x10\n",
    "model.add(AveragePooling2D())  # with this line, we go from an 10x10 to a 5x5 image\n",
    "\n",
    "model.add(Flatten())  # the network from 2D to 1D \n",
    "\n",
    "# 3rd convolutional layer\n",
    "model.add(Dense(units=120, activation='relu'))\n",
    "\n",
    "# 4th convolutional layer\n",
    "model.add(Dense(units=84, activation='relu'))\n",
    "\n",
    "# 5th convolutional layer\n",
    "model.add(Dense(units=10, activation='softmax'))\n",
    "\n",
    "\n",
    "model.compile(optimizer='adam', loss='categorical_crossentropy', metrics=['accuracy']) # adam is an adaptive optimizer that uses stochastic gradient descent to find the best parameters\n",
    "\n",
    "early_stopping_monitor = EarlyStopping(patience=5, monitor='val_accuracy')  \n",
    "\n",
    "model_checkpoint_callback = ModelCheckpoint(filepath='best_model.hdf5', \n",
    "                                                monitor='val_accuracy', \n",
    "                                                mode='auto', \n",
    "                                                save_best_only=True,\n",
    "                                                verbose=1)\n",
    "\n",
    "history = model.fit(X_train_tensor, y_train_dummies, \n",
    "            validation_data=(X_test_tensor, y_test_dummies),\n",
    "            epochs=30,\n",
    "            callbacks=[early_stopping_monitor, model_checkpoint_callback])"
   ]
  },
  {
   "cell_type": "code",
   "execution_count": 56,
   "metadata": {},
   "outputs": [
    {
     "data": {
      "text/plain": [
       "<function matplotlib.pyplot.show(close=None, block=None)>"
      ]
     },
     "execution_count": 56,
     "metadata": {},
     "output_type": "execute_result"
    },
    {
     "data": {
      "image/png": "[encoded data removed]",
      "text/plain": [
       "<Figure size 640x480 with 1 Axes>"
      ]
     },
     "metadata": {},
     "output_type": "display_data"
    }
   ],
   "source": [
    "plt.plot(history.history['accuracy'], label='training')\n",
    "plt.plot(history.history['val_accuracy'], label='test')\n",
    "plt.grid()\n",
    "plt.legend()\n",
    "plt.xlabel('epoch number')\n",
    "plt.ylabel('accuracy')\n",
    "plt.show"
   ]
  },
  {
   "cell_type": "markdown",
   "metadata": {},
   "source": [
    "The model reached an accuracy over 99%. There's a slight overfitting above 5 epochs"
   ]
  },
  {
   "cell_type": "code",
   "execution_count": 57,
   "metadata": {},
   "outputs": [
    {
     "name": "stdout",
     "output_type": "stream",
     "text": [
      "313/313 [==============================] - 1s 2ms/step\n"
     ]
    },
    {
     "data": {
      "text/plain": [
       "array([7, 2, 1, ..., 4, 5, 6], dtype=int64)"
      ]
     },
     "execution_count": 57,
     "metadata": {},
     "output_type": "execute_result"
    }
   ],
   "source": [
    "from keras.models import load_model\n",
    "best_model = load_model('best_model.hdf5')\n",
    "\n",
    "y_pred = np.argmax(best_model.predict(X_test_tensor),axis=1)\n",
    "y_pred"
   ]
  },
  {
   "cell_type": "code",
   "execution_count": 58,
   "metadata": {},
   "outputs": [
    {
     "name": "stdout",
     "output_type": "stream",
     "text": [
      "0.9918\n"
     ]
    }
   ],
   "source": [
    "score_cnn = np.mean(y_pred == y_test)\n",
    "print(score_cnn)"
   ]
  },
  {
   "cell_type": "code",
   "execution_count": 59,
   "metadata": {},
   "outputs": [],
   "source": [
    "# Save info\n",
    "summary_models.loc['Convolutional NN'] = {'Score': score_cnn}"
   ]
  },
  {
   "cell_type": "markdown",
   "metadata": {},
   "source": [
    "We could make a final step forward, squeezing the maximum out of this convolutional NN, just increasing the number of nodes of the last NN. Since it will be bigger, we can use a dropout:"
   ]
  },
  {
   "cell_type": "code",
   "execution_count": 60,
   "metadata": {},
   "outputs": [
    {
     "name": "stdout",
     "output_type": "stream",
     "text": [
      "Epoch 1/30\n",
      "1875/1875 [==============================] - ETA: 0s - loss: 0.1914 - accuracy: 0.9418\n",
      "Epoch 1: val_accuracy improved from -inf to 0.98530, saving model to best_model.hdf5\n",
      "1875/1875 [==============================] - 34s 18ms/step - loss: 0.1914 - accuracy: 0.9418 - val_loss: 0.0498 - val_accuracy: 0.9853\n",
      "Epoch 2/30\n",
      "1874/1875 [============================>.] - ETA: 0s - loss: 0.0645 - accuracy: 0.9820\n",
      "Epoch 2: val_accuracy improved from 0.98530 to 0.99120, saving model to best_model.hdf5\n",
      "1875/1875 [==============================] - 33s 17ms/step - loss: 0.0645 - accuracy: 0.9821 - val_loss: 0.0284 - val_accuracy: 0.9912\n",
      "Epoch 3/30\n",
      "1875/1875 [==============================] - ETA: 0s - loss: 0.0477 - accuracy: 0.9860\n",
      "Epoch 3: val_accuracy did not improve from 0.99120\n",
      "1875/1875 [==============================] - 34s 18ms/step - loss: 0.0477 - accuracy: 0.9860 - val_loss: 0.0367 - val_accuracy: 0.9888\n",
      "Epoch 4/30\n",
      "1875/1875 [==============================] - ETA: 0s - loss: 0.0380 - accuracy: 0.9890\n",
      "Epoch 4: val_accuracy improved from 0.99120 to 0.99280, saving model to best_model.hdf5\n",
      "1875/1875 [==============================] - 32s 17ms/step - loss: 0.0380 - accuracy: 0.9890 - val_loss: 0.0240 - val_accuracy: 0.9928\n",
      "Epoch 5/30\n",
      "1873/1875 [============================>.] - ETA: 0s - loss: 0.0319 - accuracy: 0.9912\n",
      "Epoch 5: val_accuracy did not improve from 0.99280\n",
      "1875/1875 [==============================] - 32s 17ms/step - loss: 0.0319 - accuracy: 0.9912 - val_loss: 0.0282 - val_accuracy: 0.9919\n",
      "Epoch 6/30\n",
      "1873/1875 [============================>.] - ETA: 0s - loss: 0.0283 - accuracy: 0.9918\n",
      "Epoch 6: val_accuracy did not improve from 0.99280\n",
      "1875/1875 [==============================] - 32s 17ms/step - loss: 0.0283 - accuracy: 0.9918 - val_loss: 0.0251 - val_accuracy: 0.9924\n",
      "Epoch 7/30\n",
      "1874/1875 [============================>.] - ETA: 0s - loss: 0.0241 - accuracy: 0.9934\n",
      "Epoch 7: val_accuracy improved from 0.99280 to 0.99400, saving model to best_model.hdf5\n",
      "1875/1875 [==============================] - 32s 17ms/step - loss: 0.0241 - accuracy: 0.9934 - val_loss: 0.0233 - val_accuracy: 0.9940\n",
      "Epoch 8/30\n",
      "1874/1875 [============================>.] - ETA: 0s - loss: 0.0215 - accuracy: 0.9936\n",
      "Epoch 8: val_accuracy did not improve from 0.99400\n",
      "1875/1875 [==============================] - 33s 17ms/step - loss: 0.0215 - accuracy: 0.9936 - val_loss: 0.0244 - val_accuracy: 0.9927\n",
      "Epoch 9/30\n",
      "1872/1875 [============================>.] - ETA: 0s - loss: 0.0196 - accuracy: 0.9946\n",
      "Epoch 9: val_accuracy did not improve from 0.99400\n",
      "1875/1875 [==============================] - 31s 17ms/step - loss: 0.0197 - accuracy: 0.9946 - val_loss: 0.0333 - val_accuracy: 0.9925\n",
      "Epoch 10/30\n",
      "1874/1875 [============================>.] - ETA: 0s - loss: 0.0180 - accuracy: 0.9948\n",
      "Epoch 10: val_accuracy did not improve from 0.99400\n",
      "1875/1875 [==============================] - 32s 17ms/step - loss: 0.0180 - accuracy: 0.9948 - val_loss: 0.0417 - val_accuracy: 0.9910\n",
      "Epoch 11/30\n",
      "1873/1875 [============================>.] - ETA: 0s - loss: 0.0155 - accuracy: 0.9955\n",
      "Epoch 11: val_accuracy did not improve from 0.99400\n",
      "1875/1875 [==============================] - 32s 17ms/step - loss: 0.0154 - accuracy: 0.9955 - val_loss: 0.0248 - val_accuracy: 0.9937\n",
      "Epoch 12/30\n",
      "1875/1875 [==============================] - ETA: 0s - loss: 0.0172 - accuracy: 0.9952\n",
      "Epoch 12: val_accuracy did not improve from 0.99400\n",
      "1875/1875 [==============================] - 32s 17ms/step - loss: 0.0172 - accuracy: 0.9952 - val_loss: 0.0430 - val_accuracy: 0.9903\n"
     ]
    }
   ],
   "source": [
    "model = Sequential()\n",
    "\n",
    "# 1st convolutional layer\n",
    "model.add(Conv2D(filters=24, kernel_size=(5, 5), padding='same', activation='relu', input_shape=(28,28,1)))\n",
    "model.add(AveragePooling2D()) # with this line, we go from an 28x28 to a 14x14 image\n",
    "\n",
    "# 2nd convolutional layer\n",
    "model.add(Conv2D(filters=64, kernel_size=(5, 5), padding='valid', activation='relu'))\n",
    "# with padding='valid' the image is reduced from 14x14 to 10x10\n",
    "model.add(AveragePooling2D())  # with this line, we go from an 10x10 to a 5x5 image\n",
    "\n",
    "model.add(Flatten())  # the network from 2D to 1D \n",
    "\n",
    "# 3rd convolutional layer\n",
    "model.add(Dense(units=480, activation='relu'))\n",
    "model.add(Dropout(0.5)) # since the network is bigger, we use dropout\n",
    "\n",
    "# 4th convolutional layer\n",
    "model.add(Dense(units=336, activation='relu'))\n",
    "model.add(Dropout(0.5)) # since the network is bigger, we use dropout\n",
    "\n",
    "# 5th convolutional layer\n",
    "model.add(Dense(units=10, activation='softmax'))\n",
    "\n",
    "\n",
    "model.compile(optimizer='adam', loss='categorical_crossentropy', metrics=['accuracy']) # adam is an adaptive optimizer that uses stochastic gradient descent to find the best parameters\n",
    "\n",
    "early_stopping_monitor = EarlyStopping(patience=5, monitor='val_accuracy')  \n",
    "\n",
    "model_checkpoint_callback = ModelCheckpoint(filepath='best_model.hdf5', \n",
    "                                                monitor='val_accuracy', \n",
    "                                                mode='auto', \n",
    "                                                save_best_only=True,\n",
    "                                                verbose=1)\n",
    "\n",
    "history = model.fit(X_train_tensor, y_train_dummies, \n",
    "            validation_data=(X_test_tensor, y_test_dummies),\n",
    "            epochs=30,\n",
    "            callbacks=[early_stopping_monitor, model_checkpoint_callback])"
   ]
  },
  {
   "cell_type": "markdown",
   "metadata": {},
   "source": [
    "Very good, we managed to increase a bit more the accuracy: 99.4%"
   ]
  },
  {
   "cell_type": "code",
   "execution_count": 61,
   "metadata": {},
   "outputs": [
    {
     "data": {
      "text/plain": [
       "<function matplotlib.pyplot.show(close=None, block=None)>"
      ]
     },
     "execution_count": 61,
     "metadata": {},
     "output_type": "execute_result"
    },
    {
     "data": {
      "image/png": "[encoded data removed]",
      "text/plain": [
       "<Figure size 640x480 with 1 Axes>"
      ]
     },
     "metadata": {},
     "output_type": "display_data"
    }
   ],
   "source": [
    "plt.plot(history.history['accuracy'], label='training')\n",
    "plt.plot(history.history['val_accuracy'], label='test')\n",
    "plt.grid()\n",
    "plt.legend()\n",
    "plt.xlabel('epoch number')\n",
    "plt.ylabel('accuracy')\n",
    "plt.show"
   ]
  },
  {
   "cell_type": "markdown",
   "metadata": {},
   "source": [
    "There is no significant overfitting. Very good!"
   ]
  },
  {
   "cell_type": "code",
   "execution_count": 62,
   "metadata": {},
   "outputs": [
    {
     "name": "stdout",
     "output_type": "stream",
     "text": [
      "313/313 [==============================] - 1s 4ms/step\n"
     ]
    },
    {
     "data": {
      "text/plain": [
       "array([7, 2, 1, ..., 4, 5, 6], dtype=int64)"
      ]
     },
     "execution_count": 62,
     "metadata": {},
     "output_type": "execute_result"
    }
   ],
   "source": [
    "from keras.models import load_model\n",
    "best_model = load_model('best_model.hdf5')\n",
    "\n",
    "y_pred = np.argmax(best_model.predict(X_test_tensor),axis=1)\n",
    "y_pred"
   ]
  },
  {
   "cell_type": "code",
   "execution_count": 63,
   "metadata": {},
   "outputs": [
    {
     "name": "stdout",
     "output_type": "stream",
     "text": [
      "0.994\n"
     ]
    }
   ],
   "source": [
    "score_cnn_enlarged = np.mean(y_pred == y_test)\n",
    "print(score_cnn_enlarged)"
   ]
  },
  {
   "cell_type": "code",
   "execution_count": 64,
   "metadata": {},
   "outputs": [],
   "source": [
    "# Save info\n",
    "summary_models.loc['Convolutional NN enlarged and dropout'] = {'Score': score_cnn_enlarged}"
   ]
  },
  {
   "cell_type": "markdown",
   "metadata": {},
   "source": [
    "Lets print some images with the correspondent prediction:"
   ]
  },
  {
   "cell_type": "code",
   "execution_count": 65,
   "metadata": {},
   "outputs": [
    {
     "data": {
      "image/png": "[encoded data removed]",
      "text/plain": [
       "<Figure size 600x700 with 9 Axes>"
      ]
     },
     "metadata": {},
     "output_type": "display_data"
    }
   ],
   "source": [
    "plt.figure(figsize=[6,7])\n",
    "for i in range(9):\n",
    "    plt.subplot(3, 3, i+1)\n",
    "    plt.imshow(X_test[i, :])\n",
    "    plt.title('Predicted:'+str(y_pred[i]))\n",
    "plt.show()"
   ]
  },
  {
   "cell_type": "markdown",
   "metadata": {},
   "source": [
    "In these samples, every number is well recognized. After all, with 99.4% accuracy we should have an error every 200 images."
   ]
  },
  {
   "cell_type": "markdown",
   "metadata": {},
   "source": [
    "## Conclusion <a id='conclusion'></a>"
   ]
  },
  {
   "cell_type": "markdown",
   "metadata": {},
   "source": [
    "The challenge we had in mind when started this project was to build a model that could identify handwritten digits with an accuracy greater than 99%. We initially faced the problem with a regression model. This was deliberately done to show how low was the accuracy with such algorithm. Even when we tuned up with activation function and scaling data, the score did not go higher than 70%."
   ]
  },
  {
   "cell_type": "markdown",
   "metadata": {},
   "source": [
    "Then we used a basic classification model and there was a consistent step forward in term of accuracy. After using, more hidden layers, more nodes and dropout to avoid overfitting, we improved the accuracy of ~0.5%."
   ]
  },
  {
   "cell_type": "markdown",
   "metadata": {},
   "source": [
    "The final step was about using a convolutional NN (LeNet 5) and improving it with more nodes and the use of Dropout. Accuracy reached around 99.4%."
   ]
  },
  {
   "cell_type": "code",
   "execution_count": 67,
   "metadata": {},
   "outputs": [
    {
     "data": {
      "text/html": [
       "<div>\n",
       "<style scoped>\n",
       "    .dataframe tbody tr th:only-of-type {\n",
       "        vertical-align: middle;\n",
       "    }\n",
       "\n",
       "    .dataframe tbody tr th {\n",
       "        vertical-align: top;\n",
       "    }\n",
       "\n",
       "    .dataframe thead th {\n",
       "        text-align: right;\n",
       "    }\n",
       "</style>\n",
       "<table border=\"1\" class=\"dataframe\">\n",
       "  <thead>\n",
       "    <tr style=\"text-align: right;\">\n",
       "      <th></th>\n",
       "      <th>Score</th>\n",
       "    </tr>\n",
       "  </thead>\n",
       "  <tbody>\n",
       "    <tr>\n",
       "      <th>Regression</th>\n",
       "      <td>0.095</td>\n",
       "    </tr>\n",
       "    <tr>\n",
       "      <th>Regression with ReLU</th>\n",
       "      <td>0.466</td>\n",
       "    </tr>\n",
       "    <tr>\n",
       "      <th>Regression with ReLU + scaled data</th>\n",
       "      <td>0.679</td>\n",
       "    </tr>\n",
       "    <tr>\n",
       "      <th>Classification with 1 layer and 100 nodes</th>\n",
       "      <td>0.977</td>\n",
       "    </tr>\n",
       "    <tr>\n",
       "      <th>Classification with 2 layer and 1000 nodes</th>\n",
       "      <td>0.976</td>\n",
       "    </tr>\n",
       "    <tr>\n",
       "      <th>Classification with 2 layers, 1000 nodes and dropout</th>\n",
       "      <td>0.983</td>\n",
       "    </tr>\n",
       "    <tr>\n",
       "      <th>Convolutional NN</th>\n",
       "      <td>0.992</td>\n",
       "    </tr>\n",
       "    <tr>\n",
       "      <th>Convolutional NN enlarged and dropout</th>\n",
       "      <td>0.994</td>\n",
       "    </tr>\n",
       "  </tbody>\n",
       "</table>\n",
       "</div>"
      ],
      "text/plain": [
       "                                                    Score\n",
       "Regression                                          0.095\n",
       "Regression with ReLU                                0.466\n",
       "Regression with ReLU + scaled data                  0.679\n",
       "Classification with 1 layer and 100 nodes           0.977\n",
       "Classification with 2 layer and 1000 nodes          0.976\n",
       "Classification with 2 layers, 1000 nodes and dr...  0.983\n",
       "Convolutional NN                                    0.992\n",
       "Convolutional NN enlarged and dropout               0.994"
      ]
     },
     "execution_count": 67,
     "metadata": {},
     "output_type": "execute_result"
    }
   ],
   "source": [
    "summary_models.round(3)"
   ]
  },
  {
   "cell_type": "markdown",
   "metadata": {},
   "source": [
    "We can finally say that we accomplished what we had in mind at the beginning."
   ]
  }
 ],
 "metadata": {
  "kernelspec": {
   "display_name": "Python 3",
   "language": "python",
   "name": "python3"
  },
  "language_info": {
   "codemirror_mode": {
    "name": "ipython",
    "version": 3
   },
   "file_extension": ".py",
   "mimetype": "text/x-python",
   "name": "python",
   "nbconvert_exporter": "python",
   "pygments_lexer": "ipython3",
   "version": "3.10.8"
  }
 },
 "nbformat": 4,
 "nbformat_minor": 2
}
